{
 "cells": [
  {
   "cell_type": "markdown",
   "metadata": {},
   "source": [
    "<h1 align=center><font size = 5>The Battle of the Neighborhoods - Week 1 </font></h1>"
   ]
  },
  {
   "cell_type": "markdown",
   "metadata": {},
   "source": [
    "# Introduction & Business Problem: \n",
    "\n",
    "\n",
    "##### Problem Background: \n",
    "\n",
    "#### Opening a restaurant in Center City Area of Philadelphia\n",
    "\n",
    "\n",
    "Most other cities call their main business districts “downtown,\" but in Philadelphia, that name never took hold. Instead, Philadelphians know it as Center City.\n",
    "Philadelphia, where I am currently reside, is one of the most populous city after New York in the United States. With over 6 million people in this city as at 2017 census and the number still growing exponentially is definitely one of the best places to start up a new business. Across the City during the daytime, especially in the morning and lunch hours, office areas provide huge opportunities for restaurants. Prices ranging between $7-$8 per lunch meal and shops are usually always full during the lunch hours between 11 -2 pm and, given this scenario, we will go through the benefits and pitfalls of opening a breakfast and lunch restaurants in highly dense office places. Usually the profit margin for a decent restaurant lie within ranges of 15-20% but, it can even go higher."
   ]
  },
  {
   "cell_type": "markdown",
   "metadata": {},
   "source": [
    "![](Philly_pic.png)"
   ]
  },
  {
   "cell_type": "markdown",
   "metadata": {},
   "source": [
    "\n",
    "\n",
    "I will go further to explain the data preparation and necessary steps to start of neighborhoods in Philadelphia.\n",
    "\n",
    "\n",
    "•\tLists of 42 county and population from web scrapping in Pennsylvania \n",
    "•\tObtain information about best business districts. \n",
    "•\tUse Foursquare Data to obtain info about restaurants. \n",
    "•\tData Visualization and Some Simple Statistical Analysis.\n",
    "•\tAnalysis Using Clustering, Especially K-Means Clustering. \n",
    "•\tMaximize the number of clusters. \n",
    "•\tVisualization using Choropleth Map \n",
    "•\tCompare the Neighborhoods to Find the Best Place for Starting up a Restaurant. \n",
    "•\tInference From these Results and related Conclusions. \n",
    "\n",
    "\n",
    "It is evident that to survive in such competitive market it is very important to strategically plan. Various factors need to be study in order to decide on the Location such as: \n",
    "\n",
    "\n",
    "1.\tPhiladelphia Population \n",
    "2.\tCenter City Demographics \n",
    "3.\tAre there any Farmers Markets, Wholesale markets etc. nearby so that the ingredients can be purchase fresh produce?\n",
    "4.\tAre there any venues like Gyms, Entertainment zones, Parks etc. nearby where floating population is high?\n",
    "5.\tWho are the competitors in that location? \n",
    "6.\tCuisine served / Menu of the competitors \n",
    "7.\tSegmentation \n",
    "8.\tUntapped markets \n",
    "9.\tSaturated markets \n",
    "\n",
    "\n",
    "Even though, a well-funded Company need to choose the correct location to start its first venture. If this is successful, they can replicate the same in other locations. First move is very important; thereby choice of location is very important.\n",
    "\n",
    "\n",
    "##### Target Audience\n",
    "1.\tBusiness personnel who wants to invest or open a restaurant. This analysis will be a comprehensive guide to start or expand restaurants targeting the large pool of office workers in Tokyo during lunch hours. \n",
    "2.\tFreelancers who loves to have their own restaurant as a side business. This analysis will give an idea, how beneficial it is to open a restaurant and what are the pros and cons of this business. \n",
    "3.\tNew graduates, to find reasonable lunch/breakfast place close to office. \n",
    "4.\tBudding Data Scientists, who wants to implement some of the most used Exploratory Data Analysis techniques to obtain necessary data, analyze it and, finally be able to tell a story out of it. \n",
    "\n",
    "\n",
    "\n",
    "\n",
    "\n",
    "\n",
    "\n",
    "\n",
    "\n"
   ]
  },
  {
   "cell_type": "code",
   "execution_count": null,
   "metadata": {},
   "outputs": [],
   "source": []
  }
 ],
 "metadata": {
  "kernelspec": {
   "display_name": "Python 3",
   "language": "python",
   "name": "python3"
  },
  "language_info": {
   "codemirror_mode": {
    "name": "ipython",
    "version": 3
   },
   "file_extension": ".py",
   "mimetype": "text/x-python",
   "name": "python",
   "nbconvert_exporter": "python",
   "pygments_lexer": "ipython3",
   "version": "3.6.9"
  }
 },
 "nbformat": 4,
 "nbformat_minor": 2
}
